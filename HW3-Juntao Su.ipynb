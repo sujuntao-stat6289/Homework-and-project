{
 "cells": [
  {
   "cell_type": "code",
   "execution_count": 1,
   "metadata": {},
   "outputs": [],
   "source": [
    "import math\n",
    "import matplotlib.pyplot as plt\n",
    "import keras\n",
    "import pandas as pd\n",
    "import numpy as np\n",
    "from keras.models import Sequential\n",
    "from keras.layers import Dense\n",
    "from keras.layers import LSTM\n",
    "from keras.layers import Dropout\n",
    "from keras.layers import *\n",
    "from sklearn.preprocessing import MinMaxScaler\n",
    "from sklearn.metrics import mean_squared_error\n",
    "from sklearn.metrics import mean_absolute_error\n",
    "from sklearn.model_selection import train_test_split\n",
    "from keras.callbacks import EarlyStopping\n",
    "import pandas as pd\n",
    "from pandas import DataFrame,Series\n",
    "from datetime import datetime,timedelta\n",
    "from dateutil.rrule import DAILY, rrule, MO, TU, WE, TH, FR"
   ]
  },
  {
   "cell_type": "code",
   "execution_count": 14,
   "metadata": {},
   "outputs": [],
   "source": [
    "def daterange(start_date, number_of_days):  # generate business days from a certain date\n",
    "    start_date = datetime.strptime(start_date, \"%Y-%m-%d\") +timedelta(days = 1)\n",
    "    end_date =  start_date+timedelta(days =  number_of_days)\n",
    "    return [dt.date().strftime(\"%Y-%m-%d\") for dt in rrule(DAILY, dtstart=start_date, until=end_date, byweekday=(MO,TU,WE,TH,FR))]"
   ]
  },
  {
   "cell_type": "code",
   "execution_count": 26,
   "metadata": {},
   "outputs": [
    {
     "data": {
      "text/plain": [
       "['2020-10-14',\n",
       " '2020-10-15',\n",
       " '2020-10-16',\n",
       " '2020-10-19',\n",
       " '2020-10-20',\n",
       " '2020-10-21',\n",
       " '2020-10-22',\n",
       " '2020-10-23',\n",
       " '2020-10-26',\n",
       " '2020-10-27',\n",
       " '2020-10-28']"
      ]
     },
     "execution_count": 26,
     "metadata": {},
     "output_type": "execute_result"
    }
   ],
   "source": [
    "daterange(df['Date'].values[-1],14)"
   ]
  },
  {
   "cell_type": "markdown",
   "metadata": {},
   "source": [
    "## load the data and inspect them"
   ]
  },
  {
   "cell_type": "code",
   "execution_count": 2,
   "metadata": {},
   "outputs": [
    {
     "name": "stdout",
     "output_type": "stream",
     "text": [
      "Number of rows and columns: (1328, 7)\n"
     ]
    },
    {
     "data": {
      "text/html": [
       "<div>\n",
       "<style scoped>\n",
       "    .dataframe tbody tr th:only-of-type {\n",
       "        vertical-align: middle;\n",
       "    }\n",
       "\n",
       "    .dataframe tbody tr th {\n",
       "        vertical-align: top;\n",
       "    }\n",
       "\n",
       "    .dataframe thead th {\n",
       "        text-align: right;\n",
       "    }\n",
       "</style>\n",
       "<table border=\"1\" class=\"dataframe\">\n",
       "  <thead>\n",
       "    <tr style=\"text-align: right;\">\n",
       "      <th></th>\n",
       "      <th>Date</th>\n",
       "      <th>Open</th>\n",
       "      <th>High</th>\n",
       "      <th>Low</th>\n",
       "      <th>Close</th>\n",
       "      <th>Adj Close</th>\n",
       "      <th>Volume</th>\n",
       "    </tr>\n",
       "  </thead>\n",
       "  <tbody>\n",
       "    <tr>\n",
       "      <th>0</th>\n",
       "      <td>2015-07-09</td>\n",
       "      <td>51.816002</td>\n",
       "      <td>52.590000</td>\n",
       "      <td>51.358002</td>\n",
       "      <td>51.584000</td>\n",
       "      <td>51.584000</td>\n",
       "      <td>16670500</td>\n",
       "    </tr>\n",
       "    <tr>\n",
       "      <th>1</th>\n",
       "      <td>2015-07-10</td>\n",
       "      <td>52.444000</td>\n",
       "      <td>52.599998</td>\n",
       "      <td>51.563999</td>\n",
       "      <td>51.830002</td>\n",
       "      <td>51.830002</td>\n",
       "      <td>13054500</td>\n",
       "    </tr>\n",
       "    <tr>\n",
       "      <th>2</th>\n",
       "      <td>2015-07-13</td>\n",
       "      <td>52.450001</td>\n",
       "      <td>52.509998</td>\n",
       "      <td>51.209999</td>\n",
       "      <td>52.431999</td>\n",
       "      <td>52.431999</td>\n",
       "      <td>14801500</td>\n",
       "    </tr>\n",
       "    <tr>\n",
       "      <th>3</th>\n",
       "      <td>2015-07-14</td>\n",
       "      <td>52.419998</td>\n",
       "      <td>53.198002</td>\n",
       "      <td>52.102001</td>\n",
       "      <td>53.130001</td>\n",
       "      <td>53.130001</td>\n",
       "      <td>9538000</td>\n",
       "    </tr>\n",
       "    <tr>\n",
       "      <th>4</th>\n",
       "      <td>2015-07-15</td>\n",
       "      <td>53.348000</td>\n",
       "      <td>53.498001</td>\n",
       "      <td>52.416000</td>\n",
       "      <td>52.627998</td>\n",
       "      <td>52.627998</td>\n",
       "      <td>10108000</td>\n",
       "    </tr>\n",
       "  </tbody>\n",
       "</table>\n",
       "</div>"
      ],
      "text/plain": [
       "         Date       Open       High        Low      Close  Adj Close    Volume\n",
       "0  2015-07-09  51.816002  52.590000  51.358002  51.584000  51.584000  16670500\n",
       "1  2015-07-10  52.444000  52.599998  51.563999  51.830002  51.830002  13054500\n",
       "2  2015-07-13  52.450001  52.509998  51.209999  52.431999  52.431999  14801500\n",
       "3  2015-07-14  52.419998  53.198002  52.102001  53.130001  53.130001   9538000\n",
       "4  2015-07-15  53.348000  53.498001  52.416000  52.627998  52.627998  10108000"
      ]
     },
     "execution_count": 2,
     "metadata": {},
     "output_type": "execute_result"
    }
   ],
   "source": [
    "df=pd.read_csv(r'C:\\Users\\sujun\\Desktop\\Python Codes\\STAT 6289\\HW3\\TSLA.csv')\n",
    "print('Number of rows and columns:', df.shape)\n",
    "df.head(5)"
   ]
  },
  {
   "cell_type": "markdown",
   "metadata": {},
   "source": [
    "## Split the data into training and test sets"
   ]
  },
  {
   "cell_type": "code",
   "execution_count": 3,
   "metadata": {},
   "outputs": [],
   "source": [
    "training_set = df.iloc[:800, 1:2].values\n",
    "test_set = df.iloc[800:, 1:2].values"
   ]
  },
  {
   "cell_type": "markdown",
   "metadata": {},
   "source": [
    "## Build the input features with different time lags (1 day)"
   ]
  },
  {
   "cell_type": "code",
   "execution_count": 4,
   "metadata": {},
   "outputs": [],
   "source": [
    "# Feature Scaling\n",
    "sc = MinMaxScaler(feature_range = (0, 1))\n",
    "training_set_scaled = sc.fit_transform(training_set)\n",
    "# Creating a data structure with 60 time-steps and 1 output\n",
    "X_train = []\n",
    "y_train = []\n",
    "for i in range(60, 800):\n",
    "    X_train.append(training_set_scaled[i-60:i, 0])\n",
    "    y_train.append(training_set_scaled[i, 0])\n",
    "X_train, y_train = np.array(X_train), np.array(y_train)\n",
    "X_train = np.reshape(X_train, (X_train.shape[0], X_train.shape[1], 1))\n",
    "#(740, 60, 1)"
   ]
  },
  {
   "cell_type": "markdown",
   "metadata": {},
   "source": [
    "## Build LSTM mode, decide how many neurons and how many layers, and design loss function and optimizer. "
   ]
  },
  {
   "cell_type": "code",
   "execution_count": 61,
   "metadata": {
    "scrolled": true
   },
   "outputs": [
    {
     "name": "stdout",
     "output_type": "stream",
     "text": [
      "Epoch 1/100\n",
      "24/24 [==============================] - 0s 10ms/step - loss: 0.0780\n",
      "Epoch 2/100\n",
      "24/24 [==============================] - 0s 9ms/step - loss: 0.0178\n",
      "Epoch 3/100\n",
      "24/24 [==============================] - 0s 10ms/step - loss: 0.0136\n",
      "Epoch 4/100\n",
      "24/24 [==============================] - 0s 9ms/step - loss: 0.0125\n",
      "Epoch 5/100\n",
      "24/24 [==============================] - 0s 9ms/step - loss: 0.0126\n",
      "Epoch 6/100\n",
      "24/24 [==============================] - 0s 10ms/step - loss: 0.0111\n",
      "Epoch 7/100\n",
      "24/24 [==============================] - 0s 10ms/step - loss: 0.0123\n",
      "Epoch 8/100\n",
      "24/24 [==============================] - 0s 10ms/step - loss: 0.0108\n",
      "Epoch 9/100\n",
      "24/24 [==============================] - 0s 10ms/step - loss: 0.0110\n",
      "Epoch 10/100\n",
      "24/24 [==============================] - 0s 9ms/step - loss: 0.0116\n",
      "Epoch 11/100\n",
      "24/24 [==============================] - 0s 9ms/step - loss: 0.0102\n",
      "Epoch 12/100\n",
      "24/24 [==============================] - 0s 10ms/step - loss: 0.0099\n",
      "Epoch 13/100\n",
      "24/24 [==============================] - 0s 10ms/step - loss: 0.0097\n",
      "Epoch 14/100\n",
      "24/24 [==============================] - 0s 9ms/step - loss: 0.0094\n",
      "Epoch 15/100\n",
      "24/24 [==============================] - 0s 9ms/step - loss: 0.0102\n",
      "Epoch 16/100\n",
      "24/24 [==============================] - 0s 10ms/step - loss: 0.0088\n",
      "Epoch 17/100\n",
      "24/24 [==============================] - 0s 10ms/step - loss: 0.0092\n",
      "Epoch 18/100\n",
      "24/24 [==============================] - 0s 10ms/step - loss: 0.0080\n",
      "Epoch 19/100\n",
      "24/24 [==============================] - 0s 9ms/step - loss: 0.0085\n",
      "Epoch 20/100\n",
      "24/24 [==============================] - 0s 10ms/step - loss: 0.0078\n",
      "Epoch 21/100\n",
      "24/24 [==============================] - 0s 10ms/step - loss: 0.0072\n",
      "Epoch 22/100\n",
      "24/24 [==============================] - 0s 10ms/step - loss: 0.0086\n",
      "Epoch 23/100\n",
      "24/24 [==============================] - 0s 11ms/step - loss: 0.0072\n",
      "Epoch 24/100\n",
      "24/24 [==============================] - 0s 10ms/step - loss: 0.0076\n",
      "Epoch 25/100\n",
      "24/24 [==============================] - 0s 11ms/step - loss: 0.0065\n",
      "Epoch 26/100\n",
      "24/24 [==============================] - 0s 10ms/step - loss: 0.0065\n",
      "Epoch 27/100\n",
      "24/24 [==============================] - 0s 10ms/step - loss: 0.0066\n",
      "Epoch 28/100\n",
      "24/24 [==============================] - 0s 10ms/step - loss: 0.0063\n",
      "Epoch 29/100\n",
      "24/24 [==============================] - 0s 11ms/step - loss: 0.0064\n",
      "Epoch 30/100\n",
      "24/24 [==============================] - 0s 10ms/step - loss: 0.0060\n",
      "Epoch 31/100\n",
      "24/24 [==============================] - 0s 10ms/step - loss: 0.0060\n",
      "Epoch 32/100\n",
      "24/24 [==============================] - 0s 10ms/step - loss: 0.0061\n",
      "Epoch 33/100\n",
      "24/24 [==============================] - 0s 10ms/step - loss: 0.0060\n",
      "Epoch 34/100\n",
      "24/24 [==============================] - 0s 10ms/step - loss: 0.0063\n",
      "Epoch 35/100\n",
      "24/24 [==============================] - 0s 10ms/step - loss: 0.0083\n",
      "Epoch 36/100\n",
      "24/24 [==============================] - 0s 10ms/step - loss: 0.0063\n",
      "Epoch 37/100\n",
      "24/24 [==============================] - 0s 10ms/step - loss: 0.0055\n",
      "Epoch 38/100\n",
      "24/24 [==============================] - 0s 11ms/step - loss: 0.0058\n",
      "Epoch 39/100\n",
      "24/24 [==============================] - 0s 10ms/step - loss: 0.0049\n",
      "Epoch 40/100\n",
      "24/24 [==============================] - 0s 10ms/step - loss: 0.0051\n",
      "Epoch 41/100\n",
      "24/24 [==============================] - 0s 10ms/step - loss: 0.0056\n",
      "Epoch 42/100\n",
      "24/24 [==============================] - 0s 10ms/step - loss: 0.0052\n",
      "Epoch 43/100\n",
      "24/24 [==============================] - 0s 9ms/step - loss: 0.0047\n",
      "Epoch 44/100\n",
      "24/24 [==============================] - 0s 10ms/step - loss: 0.0045\n",
      "Epoch 45/100\n",
      "24/24 [==============================] - 0s 10ms/step - loss: 0.0048\n",
      "Epoch 46/100\n",
      "24/24 [==============================] - 0s 10ms/step - loss: 0.0043\n",
      "Epoch 47/100\n",
      "24/24 [==============================] - 0s 10ms/step - loss: 0.0048\n",
      "Epoch 48/100\n",
      "24/24 [==============================] - 0s 10ms/step - loss: 0.0052\n",
      "Epoch 49/100\n",
      "24/24 [==============================] - 0s 10ms/step - loss: 0.0043\n",
      "Epoch 50/100\n",
      "24/24 [==============================] - 0s 10ms/step - loss: 0.0047\n",
      "Epoch 51/100\n",
      "24/24 [==============================] - 0s 10ms/step - loss: 0.0041\n",
      "Epoch 52/100\n",
      "24/24 [==============================] - 0s 10ms/step - loss: 0.0041\n",
      "Epoch 53/100\n",
      "24/24 [==============================] - 0s 10ms/step - loss: 0.0042\n",
      "Epoch 54/100\n",
      "24/24 [==============================] - 0s 11ms/step - loss: 0.0044\n",
      "Epoch 55/100\n",
      "24/24 [==============================] - 0s 10ms/step - loss: 0.0039\n",
      "Epoch 56/100\n",
      "24/24 [==============================] - 0s 10ms/step - loss: 0.0050\n",
      "Epoch 57/100\n",
      "24/24 [==============================] - 0s 10ms/step - loss: 0.0056\n",
      "Epoch 58/100\n",
      "24/24 [==============================] - 0s 10ms/step - loss: 0.0043\n",
      "Epoch 59/100\n",
      "24/24 [==============================] - 0s 11ms/step - loss: 0.0037\n",
      "Epoch 60/100\n",
      "24/24 [==============================] - 0s 10ms/step - loss: 0.0038\n",
      "Epoch 61/100\n",
      "24/24 [==============================] - 0s 10ms/step - loss: 0.0038\n",
      "Epoch 62/100\n",
      "24/24 [==============================] - 0s 10ms/step - loss: 0.0039\n",
      "Epoch 63/100\n",
      "24/24 [==============================] - 0s 10ms/step - loss: 0.0043\n",
      "Epoch 64/100\n",
      "24/24 [==============================] - 0s 10ms/step - loss: 0.0039\n",
      "Epoch 65/100\n",
      "24/24 [==============================] - 0s 10ms/step - loss: 0.0041\n",
      "Epoch 66/100\n",
      "24/24 [==============================] - 0s 10ms/step - loss: 0.0040\n",
      "Epoch 67/100\n",
      "24/24 [==============================] - 0s 10ms/step - loss: 0.0044\n",
      "Epoch 68/100\n",
      "24/24 [==============================] - 0s 10ms/step - loss: 0.0037\n",
      "Epoch 69/100\n",
      "24/24 [==============================] - 0s 10ms/step - loss: 0.0041\n",
      "Epoch 70/100\n",
      "24/24 [==============================] - 0s 10ms/step - loss: 0.0037\n",
      "Epoch 71/100\n",
      "24/24 [==============================] - 0s 10ms/step - loss: 0.0039\n",
      "Epoch 72/100\n",
      "24/24 [==============================] - 0s 11ms/step - loss: 0.0040\n",
      "Epoch 73/100\n",
      "24/24 [==============================] - 0s 10ms/step - loss: 0.0035\n",
      "Epoch 74/100\n",
      "24/24 [==============================] - 0s 10ms/step - loss: 0.0036\n",
      "Epoch 75/100\n",
      "24/24 [==============================] - 0s 10ms/step - loss: 0.0032\n",
      "Epoch 76/100\n",
      "24/24 [==============================] - 0s 10ms/step - loss: 0.0034\n",
      "Epoch 77/100\n",
      "24/24 [==============================] - 0s 10ms/step - loss: 0.0037\n",
      "Epoch 78/100\n",
      "24/24 [==============================] - 0s 9ms/step - loss: 0.0039\n",
      "Epoch 79/100\n",
      "24/24 [==============================] - 0s 9ms/step - loss: 0.0037\n",
      "Epoch 80/100\n",
      "24/24 [==============================] - 0s 9ms/step - loss: 0.0034\n",
      "Epoch 81/100\n",
      "24/24 [==============================] - 0s 11ms/step - loss: 0.0037\n",
      "Epoch 82/100\n",
      "24/24 [==============================] - 0s 10ms/step - loss: 0.0037\n",
      "Epoch 83/100\n",
      "24/24 [==============================] - 0s 10ms/step - loss: 0.0035\n",
      "Epoch 84/100\n",
      "24/24 [==============================] - 0s 10ms/step - loss: 0.0032\n",
      "Epoch 85/100\n",
      "24/24 [==============================] - 0s 10ms/step - loss: 0.0037\n",
      "Epoch 86/100\n",
      "24/24 [==============================] - 0s 11ms/step - loss: 0.0035\n",
      "Epoch 87/100\n",
      "24/24 [==============================] - 0s 10ms/step - loss: 0.0034\n",
      "Epoch 88/100\n",
      "24/24 [==============================] - 0s 10ms/step - loss: 0.0041\n",
      "Epoch 89/100\n",
      "24/24 [==============================] - 0s 10ms/step - loss: 0.0032\n",
      "Epoch 90/100\n",
      "24/24 [==============================] - 0s 10ms/step - loss: 0.0032\n",
      "Epoch 91/100\n",
      "24/24 [==============================] - 0s 10ms/step - loss: 0.0029\n",
      "Epoch 92/100\n",
      "24/24 [==============================] - 0s 10ms/step - loss: 0.0032\n",
      "Epoch 93/100\n",
      "24/24 [==============================] - 0s 10ms/step - loss: 0.0032\n",
      "Epoch 94/100\n",
      "24/24 [==============================] - 0s 10ms/step - loss: 0.0031\n",
      "Epoch 95/100\n",
      "24/24 [==============================] - 0s 10ms/step - loss: 0.0033\n",
      "Epoch 96/100\n",
      "24/24 [==============================] - 0s 10ms/step - loss: 0.0029\n",
      "Epoch 97/100\n",
      "24/24 [==============================] - 0s 10ms/step - loss: 0.0030\n",
      "Epoch 98/100\n",
      "24/24 [==============================] - 0s 10ms/step - loss: 0.0030\n",
      "Epoch 99/100\n",
      "24/24 [==============================] - 0s 11ms/step - loss: 0.0029\n",
      "Epoch 100/100\n",
      "24/24 [==============================] - 0s 10ms/step - loss: 0.0029\n"
     ]
    },
    {
     "data": {
      "text/plain": [
       "<tensorflow.python.keras.callbacks.History at 0x2c3740d9348>"
      ]
     },
     "execution_count": 61,
     "metadata": {},
     "output_type": "execute_result"
    }
   ],
   "source": [
    "model = Sequential()\n",
    "#Adding the first LSTM layer and some Dropout regularisation\n",
    "model.add(LSTM(units = 50, return_sequences = True, input_shape = (X_train.shape[1], 1)))\n",
    "model.add(Dropout(0.2))\n",
    "# Adding a second LSTM layer and some Dropout regularisation\n",
    "model.add(LSTM(units = 50, return_sequences = True))\n",
    "model.add(Dropout(0.2))\n",
    "# Adding a third LSTM layer and some Dropout regularisation\n",
    "model.add(LSTM(units = 50, return_sequences = True))\n",
    "model.add(Dropout(0.2))\n",
    "# Adding a fourth LSTM layer and some Dropout regularisation\n",
    "model.add(LSTM(units = 50))\n",
    "model.add(Dropout(0.2))\n",
    "# Adding the output layer\n",
    "model.add(Dense(units = 1))\n",
    "\n",
    "# Compiling the RNN\n",
    "model.compile(optimizer = 'adam', loss = 'mean_squared_error')\n",
    "\n",
    "# Fitting the RNN to the Training set\n",
    "model.fit(X_train, y_train, epochs = 100, batch_size = 32)"
   ]
  },
  {
   "cell_type": "markdown",
   "metadata": {},
   "source": [
    "## Generate test data"
   ]
  },
  {
   "cell_type": "code",
   "execution_count": 62,
   "metadata": {},
   "outputs": [],
   "source": [
    "# Getting the predicted stock price of 2017\n",
    "dataset_train = df.iloc[:800, 1:2]\n",
    "dataset_test = df.iloc[800:, 1:2]\n",
    "dataset_total = pd.concat((dataset_train, dataset_test), axis = 0)\n",
    "inputs = dataset_total[len(dataset_total) - len(dataset_test) - 60:].values\n",
    "inputs = inputs.reshape(-1,1)\n",
    "inputs = sc.transform(inputs)\n",
    "X_test = []\n",
    "for i in range(60, 588): #519 589\n",
    "    X_test.append(inputs[i-60:i, 0])\n",
    "X_test = np.array(X_test)\n",
    "X_test = np.reshape(X_test, (X_test.shape[0], X_test.shape[1], 1))"
   ]
  },
  {
   "cell_type": "markdown",
   "metadata": {},
   "source": [
    "## Testing model"
   ]
  },
  {
   "cell_type": "code",
   "execution_count": 63,
   "metadata": {},
   "outputs": [],
   "source": [
    "# For testing\n",
    "predicted_stock_price = model.predict(X_test)\n",
    "predicted_stock_price = sc.inverse_transform(predicted_stock_price)"
   ]
  },
  {
   "cell_type": "code",
   "execution_count": 64,
   "metadata": {},
   "outputs": [
    {
     "data": {
      "image/png": "[encoded data removed]",
      "text/plain": [
       "<Figure size 432x288 with 1 Axes>"
      ]
     },
     "metadata": {
      "needs_background": "light"
     },
     "output_type": "display_data"
    }
   ],
   "source": [
    "# Visualising the results\n",
    "plt.plot(df.loc[800:, 'Date'],dataset_test.values, color = 'red', label = 'Real TESLA Stock Price')\n",
    "plt.plot(df.loc[800:, 'Date'],predicted_stock_price, color = 'blue', label = 'Predicted TESLA Stock Price')\n",
    "plt.xticks(np.arange(0,528,40),rotation=45)\n",
    "plt.title('4 Hidden layers, batch size 32, dropout 0.2')\n",
    "plt.xlabel('Time')\n",
    "plt.ylabel('TESLA Stock Price')\n",
    "plt.legend()\n",
    "plt.savefig(r'C:\\Users\\sujun\\Desktop\\Python Codes\\STAT 6289\\HW3\\4 Hidden layers, batch size 32, dropout 0.2.png',dpi=200, bbox_inches='tight')\n",
    "plt.show()"
   ]
  },
  {
   "cell_type": "markdown",
   "metadata": {},
   "source": [
    "## Prediction"
   ]
  },
  {
   "cell_type": "code",
   "execution_count": 65,
   "metadata": {},
   "outputs": [],
   "source": [
    "# For prediction\n",
    "import copy\n",
    "predicted_days=14\n",
    "X_test2=copy.deepcopy(X_test)\n",
    "for i in range(predicted_days):\n",
    "    X_temp=np.zeros([1,60,1])\n",
    "    for j in range(58):\n",
    "        X_temp[0][j][0]=X_test2[-1][j+1][0]\n",
    "    X_temp[0][59][0]=model.predict(X_test2[-1:])[0][0]\n",
    "    X_test2=np.vstack([X_test2,X_temp])\n",
    "predicted_stock_price = model.predict(X_test2)\n",
    "predicted_stock_price = sc.inverse_transform(predicted_stock_price)"
   ]
  },
  {
   "cell_type": "code",
   "execution_count": 67,
   "metadata": {},
   "outputs": [
    {
     "data": {
      "image/png": "[encoded data removed]",
      "text/plain": [
       "<Figure size 432x288 with 1 Axes>"
      ]
     },
     "metadata": {
      "needs_background": "light"
     },
     "output_type": "display_data"
    }
   ],
   "source": [
    "# Visualising the results\n",
    "plt.plot(df.loc[800:, 'Date'],dataset_test.values, color = 'red', label = 'Real TESLA Stock Price')\n",
    "plt.plot(predicted_stock_price, color = 'blue', label = 'Predicted TESLA Stock Price')\n",
    "plt.title('TESLA Stock Price Prediction')\n",
    "plt.xticks(np.arange(0,543,45),rotation=45)\n",
    "plt.xlabel('Time')\n",
    "plt.ylabel('TESLA Stock Price')\n",
    "plt.legend()\n",
    "plt.savefig(r'C:\\Users\\sujun\\Desktop\\Python Codes\\STAT 6289\\HW3\\prediction.png',dpi=200, bbox_inches='tight')\n",
    "plt.show()"
   ]
  },
  {
   "cell_type": "code",
   "execution_count": null,
   "metadata": {},
   "outputs": [],
   "source": []
  }
 ],
 "metadata": {
  "kernelspec": {
   "display_name": "Python 3",
   "language": "python",
   "name": "python3"
  },
  "language_info": {
   "codemirror_mode": {
    "name": "ipython",
    "version": 3
   },
   "file_extension": ".py",
   "mimetype": "text/x-python",
   "name": "python",
   "nbconvert_exporter": "python",
   "pygments_lexer": "ipython3",
   "version": "3.7.6"
  }
 },
 "nbformat": 4,
 "nbformat_minor": 4
}
